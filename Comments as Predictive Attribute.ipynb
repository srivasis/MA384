{
 "cells": [
  {
   "cell_type": "code",
   "execution_count": 10,
   "metadata": {},
   "outputs": [],
   "source": [
    "import pandas as pd\n",
    "import matplotlib.pyplot as plt\n",
    "import numpy as np\n",
    "import seaborn as sns\n",
    "from sklearn import tree\n",
    "import graphviz\n",
    "from sklearn.model_selection import GridSearchCV"
   ]
  },
  {
   "cell_type": "code",
   "execution_count": 11,
   "metadata": {},
   "outputs": [],
   "source": [
    "usData = pd.read_csv('../Data/YouTube/cleaned_us.csv')\n",
    "usData['trending_date'] = '20' + usData['trending_date']\n",
    "usData['trending_date'] = pd.to_datetime(usData['trending_date'],format='%Y.%d.%m')"
   ]
  },
  {
   "cell_type": "code",
   "execution_count": 12,
   "metadata": {},
   "outputs": [
    {
     "data": {
      "text/html": [
       "<div>\n",
       "<style scoped>\n",
       "    .dataframe tbody tr th:only-of-type {\n",
       "        vertical-align: middle;\n",
       "    }\n",
       "\n",
       "    .dataframe tbody tr th {\n",
       "        vertical-align: top;\n",
       "    }\n",
       "\n",
       "    .dataframe thead th {\n",
       "        text-align: right;\n",
       "    }\n",
       "</style>\n",
       "<table border=\"1\" class=\"dataframe\">\n",
       "  <thead>\n",
       "    <tr style=\"text-align: right;\">\n",
       "      <th></th>\n",
       "      <th>video_id</th>\n",
       "      <th>trending_date</th>\n",
       "      <th>title</th>\n",
       "      <th>channel_title</th>\n",
       "      <th>publish_time</th>\n",
       "      <th>tags</th>\n",
       "      <th>views</th>\n",
       "      <th>likes</th>\n",
       "      <th>dislikes</th>\n",
       "      <th>comment_count</th>\n",
       "      <th>thumbnail_link</th>\n",
       "      <th>comments_disabled</th>\n",
       "      <th>ratings_disabled</th>\n",
       "      <th>video_error_or_removed</th>\n",
       "      <th>description</th>\n",
       "      <th>category</th>\n",
       "    </tr>\n",
       "  </thead>\n",
       "  <tbody>\n",
       "    <tr>\n",
       "      <th>0</th>\n",
       "      <td>2kyS6SvSYSE</td>\n",
       "      <td>2017-11-14</td>\n",
       "      <td>WE WANT TO TALK ABOUT OUR MARRIAGE</td>\n",
       "      <td>CaseyNeistat</td>\n",
       "      <td>2017-11-13T17:13:01.000Z</td>\n",
       "      <td>shantell martin</td>\n",
       "      <td>748374</td>\n",
       "      <td>57527</td>\n",
       "      <td>2966</td>\n",
       "      <td>15954</td>\n",
       "      <td>https://i.ytimg.com/vi/2kyS6SvSYSE/default.jpg</td>\n",
       "      <td>False</td>\n",
       "      <td>False</td>\n",
       "      <td>False</td>\n",
       "      <td>SHANTELL'S CHANNEL - https://www.youtube.com/s...</td>\n",
       "      <td>People &amp; Blogs</td>\n",
       "    </tr>\n",
       "    <tr>\n",
       "      <th>1</th>\n",
       "      <td>0mlNzVSJrT0</td>\n",
       "      <td>2017-11-14</td>\n",
       "      <td>Me-O Cats Commercial</td>\n",
       "      <td>Nobrand</td>\n",
       "      <td>2017-04-21T06:47:32.000Z</td>\n",
       "      <td>cute,cats,thai,eggs</td>\n",
       "      <td>98966</td>\n",
       "      <td>2486</td>\n",
       "      <td>184</td>\n",
       "      <td>532</td>\n",
       "      <td>https://i.ytimg.com/vi/0mlNzVSJrT0/default.jpg</td>\n",
       "      <td>False</td>\n",
       "      <td>False</td>\n",
       "      <td>False</td>\n",
       "      <td>Kittens come out of the eggs in a Thai commerc...</td>\n",
       "      <td>People &amp; Blogs</td>\n",
       "    </tr>\n",
       "    <tr>\n",
       "      <th>2</th>\n",
       "      <td>STI2fI7sKMo</td>\n",
       "      <td>2017-11-14</td>\n",
       "      <td>AFFAIRS, EX BOYFRIENDS, $18MILLION NET WORTH -...</td>\n",
       "      <td>Shawn Johnson East</td>\n",
       "      <td>2017-11-11T15:00:03.000Z</td>\n",
       "      <td>shawn johnson,andrew east,shawn east,shawn and...</td>\n",
       "      <td>321053</td>\n",
       "      <td>4451</td>\n",
       "      <td>1772</td>\n",
       "      <td>895</td>\n",
       "      <td>https://i.ytimg.com/vi/STI2fI7sKMo/default.jpg</td>\n",
       "      <td>False</td>\n",
       "      <td>False</td>\n",
       "      <td>False</td>\n",
       "      <td>Subscribe for weekly videos ▶ http://bit.ly/sj...</td>\n",
       "      <td>People &amp; Blogs</td>\n",
       "    </tr>\n",
       "  </tbody>\n",
       "</table>\n",
       "</div>"
      ],
      "text/plain": [
       "      video_id trending_date  \\\n",
       "0  2kyS6SvSYSE    2017-11-14   \n",
       "1  0mlNzVSJrT0    2017-11-14   \n",
       "2  STI2fI7sKMo    2017-11-14   \n",
       "\n",
       "                                               title       channel_title  \\\n",
       "0                 WE WANT TO TALK ABOUT OUR MARRIAGE        CaseyNeistat   \n",
       "1                               Me-O Cats Commercial             Nobrand   \n",
       "2  AFFAIRS, EX BOYFRIENDS, $18MILLION NET WORTH -...  Shawn Johnson East   \n",
       "\n",
       "               publish_time  \\\n",
       "0  2017-11-13T17:13:01.000Z   \n",
       "1  2017-04-21T06:47:32.000Z   \n",
       "2  2017-11-11T15:00:03.000Z   \n",
       "\n",
       "                                                tags   views  likes  dislikes  \\\n",
       "0                                    shantell martin  748374  57527      2966   \n",
       "1                                cute,cats,thai,eggs   98966   2486       184   \n",
       "2  shawn johnson,andrew east,shawn east,shawn and...  321053   4451      1772   \n",
       "\n",
       "   comment_count                                  thumbnail_link  \\\n",
       "0          15954  https://i.ytimg.com/vi/2kyS6SvSYSE/default.jpg   \n",
       "1            532  https://i.ytimg.com/vi/0mlNzVSJrT0/default.jpg   \n",
       "2            895  https://i.ytimg.com/vi/STI2fI7sKMo/default.jpg   \n",
       "\n",
       "   comments_disabled  ratings_disabled  video_error_or_removed  \\\n",
       "0              False             False                   False   \n",
       "1              False             False                   False   \n",
       "2              False             False                   False   \n",
       "\n",
       "                                         description        category  \n",
       "0  SHANTELL'S CHANNEL - https://www.youtube.com/s...  People & Blogs  \n",
       "1  Kittens come out of the eggs in a Thai commerc...  People & Blogs  \n",
       "2  Subscribe for weekly videos ▶ http://bit.ly/sj...  People & Blogs  "
      ]
     },
     "execution_count": 12,
     "metadata": {},
     "output_type": "execute_result"
    }
   ],
   "source": [
    "usData.head(3)"
   ]
  },
  {
   "cell_type": "code",
   "execution_count": 13,
   "metadata": {},
   "outputs": [],
   "source": [
    "sortedUSData = usData.sort_values('comment_count')"
   ]
  },
  {
   "cell_type": "code",
   "execution_count": 127,
   "metadata": {},
   "outputs": [
    {
     "data": {
      "text/plain": [
       "<matplotlib.axes._subplots.AxesSubplot at 0x1b72f0e54e0>"
      ]
     },
     "execution_count": 127,
     "metadata": {},
     "output_type": "execute_result"
    },
    {
     "data": {
      "image/png": "[encoded data removed]",
      "text/plain": [
       "<Figure size 432x288 with 1 Axes>"
      ]
     },
     "metadata": {
      "needs_background": "light"
     },
     "output_type": "display_data"
    }
   ],
   "source": [
    "sortedUSData.plot.line(x='comment_count',y='views')"
   ]
  },
  {
   "cell_type": "markdown",
   "metadata": {},
   "source": [
    "## The above doesn't show a huge relation between comment_count and the number of views a video has. Some videos with relatively low comment_count still have more or abou tthe same views as videos with higher comment_count"
   ]
  },
  {
   "cell_type": "code",
   "execution_count": 124,
   "metadata": {
    "scrolled": true
   },
   "outputs": [
    {
     "data": {
      "text/plain": [
       "<matplotlib.axes._subplots.AxesSubplot at 0x1b72c376470>"
      ]
     },
     "execution_count": 124,
     "metadata": {},
     "output_type": "execute_result"
    },
    {
     "data": {
      "image/png": "[encoded data removed]",
      "text/plain": [
       "<Figure size 432x288 with 1 Axes>"
      ]
     },
     "metadata": {
      "needs_background": "light"
     },
     "output_type": "display_data"
    }
   ],
   "source": [
    "sortedUSData.plot.line(x='comment_count',y='likes', color='blue')"
   ]
  },
  {
   "cell_type": "markdown",
   "metadata": {},
   "source": [
    "## From the above graph, we can see that the more comments a video has, the more likes it has. This is not always the case, but the graph shows that most videos do follow the above hypothesis. "
   ]
  },
  {
   "cell_type": "code",
   "execution_count": 125,
   "metadata": {},
   "outputs": [
    {
     "data": {
      "text/plain": [
       "<matplotlib.axes._subplots.AxesSubplot at 0x1b72ddafef0>"
      ]
     },
     "execution_count": 125,
     "metadata": {},
     "output_type": "execute_result"
    },
    {
     "data": {
      "image/png": "[encoded data removed]",
      "text/plain": [
       "<Figure size 432x288 with 1 Axes>"
      ]
     },
     "metadata": {
      "needs_background": "light"
     },
     "output_type": "display_data"
    }
   ],
   "source": [
    "sortedUSData.plot.line(x='comment_count',y='dislikes',color='red')"
   ]
  },
  {
   "cell_type": "markdown",
   "metadata": {},
   "source": [
    "## From the above graph, we can see that there is no relation between comment_count and dislikes. This is weird because I would've thought that the most disliked videos would have many comments making fun of the video. Even though we see many dislikes for videos with high comment_count, but I don't think it is enough to make conclusions but it will be useful insight for the future."
   ]
  },
  {
   "cell_type": "code",
   "execution_count": 126,
   "metadata": {},
   "outputs": [
    {
     "data": {
      "image/png": "[encoded data removed]",
      "text/plain": [
       "<Figure size 432x288 with 1 Axes>"
      ]
     },
     "metadata": {
      "needs_background": "light"
     },
     "output_type": "display_data"
    }
   ],
   "source": [
    "ax = plt.gca()\n",
    "sortedUSData.plot.line(x='comment_count',y='dislikes',color='red', ax=ax)\n",
    "sortedUSData.plot.line(x='comment_count',y='likes', color='blue', ax=ax)\n",
    "plt.show()"
   ]
  },
  {
   "cell_type": "markdown",
   "metadata": {},
   "source": [
    "## The reason why I drew both in the same plot is because they both seemed opposite to each other in some areas and the same in other areas. For example, around 800,000 comments, we see they follow the same pattern however, around 1,000,000, they are almost opposite to each other"
   ]
  },
  {
   "cell_type": "code",
   "execution_count": 15,
   "metadata": {},
   "outputs": [
    {
     "data": {
      "text/plain": [
       "31861    517232\n",
       "31815    512337\n",
       "31772    509799\n",
       "31729    501722\n",
       "31684    496211\n",
       "31644    491005\n",
       "31606    485797\n",
       "31564    479917\n",
       "31519    473039\n",
       "31478    466470\n",
       "Name: comment_count, dtype: int64"
      ]
     },
     "execution_count": 15,
     "metadata": {},
     "output_type": "execute_result"
    }
   ],
   "source": [
    " usData.sort_values('views', ascending=False).head(10)['comment_count']"
   ]
  },
  {
   "cell_type": "markdown",
   "metadata": {},
   "source": [
    "## From above, we can see that videos that have between 400,000 and 600,000 comments have the most views."
   ]
  },
  {
   "cell_type": "code",
   "execution_count": 27,
   "metadata": {},
   "outputs": [
    {
     "data": {
      "text/html": [
       "<div>\n",
       "<style scoped>\n",
       "    .dataframe tbody tr th:only-of-type {\n",
       "        vertical-align: middle;\n",
       "    }\n",
       "\n",
       "    .dataframe tbody tr th {\n",
       "        vertical-align: top;\n",
       "    }\n",
       "\n",
       "    .dataframe thead th {\n",
       "        text-align: right;\n",
       "    }\n",
       "</style>\n",
       "<table border=\"1\" class=\"dataframe\">\n",
       "  <thead>\n",
       "    <tr style=\"text-align: right;\">\n",
       "      <th></th>\n",
       "      <th>video_id</th>\n",
       "      <th>trending_date</th>\n",
       "      <th>title</th>\n",
       "      <th>channel_title</th>\n",
       "      <th>publish_time</th>\n",
       "      <th>tags</th>\n",
       "      <th>views</th>\n",
       "      <th>likes</th>\n",
       "      <th>dislikes</th>\n",
       "      <th>comment_count</th>\n",
       "      <th>thumbnail_link</th>\n",
       "      <th>comments_disabled</th>\n",
       "      <th>ratings_disabled</th>\n",
       "      <th>video_error_or_removed</th>\n",
       "      <th>description</th>\n",
       "      <th>category</th>\n",
       "      <th>trending_month</th>\n",
       "      <th>trending_year</th>\n",
       "    </tr>\n",
       "  </thead>\n",
       "  <tbody>\n",
       "    <tr>\n",
       "      <th>0</th>\n",
       "      <td>2kyS6SvSYSE</td>\n",
       "      <td>2017-11-14</td>\n",
       "      <td>WE WANT TO TALK ABOUT OUR MARRIAGE</td>\n",
       "      <td>CaseyNeistat</td>\n",
       "      <td>2017-11-13T17:13:01.000Z</td>\n",
       "      <td>shantell martin</td>\n",
       "      <td>748374</td>\n",
       "      <td>57527</td>\n",
       "      <td>2966</td>\n",
       "      <td>15954</td>\n",
       "      <td>https://i.ytimg.com/vi/2kyS6SvSYSE/default.jpg</td>\n",
       "      <td>False</td>\n",
       "      <td>False</td>\n",
       "      <td>False</td>\n",
       "      <td>SHANTELL'S CHANNEL - https://www.youtube.com/s...</td>\n",
       "      <td>People &amp; Blogs</td>\n",
       "      <td>11</td>\n",
       "      <td>2017</td>\n",
       "    </tr>\n",
       "    <tr>\n",
       "      <th>1</th>\n",
       "      <td>0mlNzVSJrT0</td>\n",
       "      <td>2017-11-14</td>\n",
       "      <td>Me-O Cats Commercial</td>\n",
       "      <td>Nobrand</td>\n",
       "      <td>2017-04-21T06:47:32.000Z</td>\n",
       "      <td>cute,cats,thai,eggs</td>\n",
       "      <td>98966</td>\n",
       "      <td>2486</td>\n",
       "      <td>184</td>\n",
       "      <td>532</td>\n",
       "      <td>https://i.ytimg.com/vi/0mlNzVSJrT0/default.jpg</td>\n",
       "      <td>False</td>\n",
       "      <td>False</td>\n",
       "      <td>False</td>\n",
       "      <td>Kittens come out of the eggs in a Thai commerc...</td>\n",
       "      <td>People &amp; Blogs</td>\n",
       "      <td>11</td>\n",
       "      <td>2017</td>\n",
       "    </tr>\n",
       "    <tr>\n",
       "      <th>2</th>\n",
       "      <td>STI2fI7sKMo</td>\n",
       "      <td>2017-11-14</td>\n",
       "      <td>AFFAIRS, EX BOYFRIENDS, $18MILLION NET WORTH -...</td>\n",
       "      <td>Shawn Johnson East</td>\n",
       "      <td>2017-11-11T15:00:03.000Z</td>\n",
       "      <td>shawn johnson,andrew east,shawn east,shawn and...</td>\n",
       "      <td>321053</td>\n",
       "      <td>4451</td>\n",
       "      <td>1772</td>\n",
       "      <td>895</td>\n",
       "      <td>https://i.ytimg.com/vi/STI2fI7sKMo/default.jpg</td>\n",
       "      <td>False</td>\n",
       "      <td>False</td>\n",
       "      <td>False</td>\n",
       "      <td>Subscribe for weekly videos ▶ http://bit.ly/sj...</td>\n",
       "      <td>People &amp; Blogs</td>\n",
       "      <td>11</td>\n",
       "      <td>2017</td>\n",
       "    </tr>\n",
       "    <tr>\n",
       "      <th>3</th>\n",
       "      <td>KODzih-pYlU</td>\n",
       "      <td>2017-11-14</td>\n",
       "      <td>BLIND(folded) CAKE DECORATING CONTEST (with Mo...</td>\n",
       "      <td>Grace Helbig</td>\n",
       "      <td>2017-11-11T18:08:04.000Z</td>\n",
       "      <td>itsgrace,funny,comedy,vlog,grace,helbig,graceh...</td>\n",
       "      <td>197062</td>\n",
       "      <td>7250</td>\n",
       "      <td>217</td>\n",
       "      <td>456</td>\n",
       "      <td>https://i.ytimg.com/vi/KODzih-pYlU/default.jpg</td>\n",
       "      <td>False</td>\n",
       "      <td>False</td>\n",
       "      <td>False</td>\n",
       "      <td>Molly is an god damn amazing human and she cha...</td>\n",
       "      <td>People &amp; Blogs</td>\n",
       "      <td>11</td>\n",
       "      <td>2017</td>\n",
       "    </tr>\n",
       "    <tr>\n",
       "      <th>4</th>\n",
       "      <td>8mhTWqWlQzU</td>\n",
       "      <td>2017-11-14</td>\n",
       "      <td>Wearing Online Dollar Store Makeup For A Week</td>\n",
       "      <td>Safiya Nygaard</td>\n",
       "      <td>2017-11-11T01:19:33.000Z</td>\n",
       "      <td>wearing online dollar store makeup for a week,...</td>\n",
       "      <td>2744430</td>\n",
       "      <td>115426</td>\n",
       "      <td>1110</td>\n",
       "      <td>6541</td>\n",
       "      <td>https://i.ytimg.com/vi/8mhTWqWlQzU/default.jpg</td>\n",
       "      <td>False</td>\n",
       "      <td>False</td>\n",
       "      <td>False</td>\n",
       "      <td>I found this online dollar store called ShopMi...</td>\n",
       "      <td>People &amp; Blogs</td>\n",
       "      <td>11</td>\n",
       "      <td>2017</td>\n",
       "    </tr>\n",
       "  </tbody>\n",
       "</table>\n",
       "</div>"
      ],
      "text/plain": [
       "      video_id trending_date  \\\n",
       "0  2kyS6SvSYSE    2017-11-14   \n",
       "1  0mlNzVSJrT0    2017-11-14   \n",
       "2  STI2fI7sKMo    2017-11-14   \n",
       "3  KODzih-pYlU    2017-11-14   \n",
       "4  8mhTWqWlQzU    2017-11-14   \n",
       "\n",
       "                                               title       channel_title  \\\n",
       "0                 WE WANT TO TALK ABOUT OUR MARRIAGE        CaseyNeistat   \n",
       "1                               Me-O Cats Commercial             Nobrand   \n",
       "2  AFFAIRS, EX BOYFRIENDS, $18MILLION NET WORTH -...  Shawn Johnson East   \n",
       "3  BLIND(folded) CAKE DECORATING CONTEST (with Mo...        Grace Helbig   \n",
       "4      Wearing Online Dollar Store Makeup For A Week      Safiya Nygaard   \n",
       "\n",
       "               publish_time  \\\n",
       "0  2017-11-13T17:13:01.000Z   \n",
       "1  2017-04-21T06:47:32.000Z   \n",
       "2  2017-11-11T15:00:03.000Z   \n",
       "3  2017-11-11T18:08:04.000Z   \n",
       "4  2017-11-11T01:19:33.000Z   \n",
       "\n",
       "                                                tags    views   likes  \\\n",
       "0                                    shantell martin   748374   57527   \n",
       "1                                cute,cats,thai,eggs    98966    2486   \n",
       "2  shawn johnson,andrew east,shawn east,shawn and...   321053    4451   \n",
       "3  itsgrace,funny,comedy,vlog,grace,helbig,graceh...   197062    7250   \n",
       "4  wearing online dollar store makeup for a week,...  2744430  115426   \n",
       "\n",
       "   dislikes  comment_count                                  thumbnail_link  \\\n",
       "0      2966          15954  https://i.ytimg.com/vi/2kyS6SvSYSE/default.jpg   \n",
       "1       184            532  https://i.ytimg.com/vi/0mlNzVSJrT0/default.jpg   \n",
       "2      1772            895  https://i.ytimg.com/vi/STI2fI7sKMo/default.jpg   \n",
       "3       217            456  https://i.ytimg.com/vi/KODzih-pYlU/default.jpg   \n",
       "4      1110           6541  https://i.ytimg.com/vi/8mhTWqWlQzU/default.jpg   \n",
       "\n",
       "   comments_disabled  ratings_disabled  video_error_or_removed  \\\n",
       "0              False             False                   False   \n",
       "1              False             False                   False   \n",
       "2              False             False                   False   \n",
       "3              False             False                   False   \n",
       "4              False             False                   False   \n",
       "\n",
       "                                         description        category  \\\n",
       "0  SHANTELL'S CHANNEL - https://www.youtube.com/s...  People & Blogs   \n",
       "1  Kittens come out of the eggs in a Thai commerc...  People & Blogs   \n",
       "2  Subscribe for weekly videos ▶ http://bit.ly/sj...  People & Blogs   \n",
       "3  Molly is an god damn amazing human and she cha...  People & Blogs   \n",
       "4  I found this online dollar store called ShopMi...  People & Blogs   \n",
       "\n",
       "   trending_month  trending_year  \n",
       "0              11           2017  \n",
       "1              11           2017  \n",
       "2              11           2017  \n",
       "3              11           2017  \n",
       "4              11           2017  "
      ]
     },
     "execution_count": 27,
     "metadata": {},
     "output_type": "execute_result"
    }
   ],
   "source": [
    "usData.head()"
   ]
  },
  {
   "cell_type": "markdown",
   "metadata": {},
   "source": [
    "## The below three graphs show the percentage of videos that either have comments disabled, ratings disabled, or have been removed or has an error."
   ]
  },
  {
   "cell_type": "code",
   "execution_count": 64,
   "metadata": {},
   "outputs": [
    {
     "data": {
      "text/plain": [
       "<matplotlib.axes._subplots.AxesSubplot at 0x1b726600a20>"
      ]
     },
     "execution_count": 64,
     "metadata": {},
     "output_type": "execute_result"
    },
    {
     "data": {
      "image/png": "[encoded data removed]",
      "text/plain": [
       "<Figure size 432x288 with 1 Axes>"
      ]
     },
     "metadata": {},
     "output_type": "display_data"
    }
   ],
   "source": [
    "plt.title('Comments Disabled')\n",
    "usData.comments_disabled.value_counts().plot(kind='pie',autopct='%1.1f%%')"
   ]
  },
  {
   "cell_type": "code",
   "execution_count": 65,
   "metadata": {},
   "outputs": [
    {
     "data": {
      "text/plain": [
       "<matplotlib.axes._subplots.AxesSubplot at 0x1b726641438>"
      ]
     },
     "execution_count": 65,
     "metadata": {},
     "output_type": "execute_result"
    },
    {
     "data": {
      "image/png": "[encoded data removed]",
      "text/plain": [
       "<Figure size 432x288 with 1 Axes>"
      ]
     },
     "metadata": {},
     "output_type": "display_data"
    }
   ],
   "source": [
    "plt.title('Ratings Disabled')\n",
    "usData.ratings_disabled.value_counts().plot(kind='pie',autopct='%1.1f%%')"
   ]
  },
  {
   "cell_type": "code",
   "execution_count": 66,
   "metadata": {},
   "outputs": [
    {
     "data": {
      "text/plain": [
       "<matplotlib.axes._subplots.AxesSubplot at 0x1b726675e48>"
      ]
     },
     "execution_count": 66,
     "metadata": {},
     "output_type": "execute_result"
    },
    {
     "data": {
      "image/png": "[encoded data removed]",
      "text/plain": [
       "<Figure size 432x288 with 1 Axes>"
      ]
     },
     "metadata": {},
     "output_type": "display_data"
    }
   ],
   "source": [
    "plt.title('Video Error or Removed')\n",
    "usData.video_error_or_removed.value_counts().plot(kind='pie',autopct='%1.1f%%')"
   ]
  },
  {
   "cell_type": "markdown",
   "metadata": {},
   "source": [
    "## These pie charts show the percentage of different things with true/false "
   ]
  },
  {
   "cell_type": "code",
   "execution_count": 77,
   "metadata": {},
   "outputs": [
    {
     "data": {
      "text/plain": [
       "<matplotlib.axes._subplots.AxesSubplot at 0x1b7266b4f28>"
      ]
     },
     "execution_count": 77,
     "metadata": {},
     "output_type": "execute_result"
    },
    {
     "data": {
      "image/png": "[encoded data removed]",
      "text/plain": [
       "<Figure size 432x288 with 1 Axes>"
      ]
     },
     "metadata": {
      "needs_background": "light"
     },
     "output_type": "display_data"
    }
   ],
   "source": [
    "usData.title.str.len().plot.box()"
   ]
  },
  {
   "cell_type": "markdown",
   "metadata": {},
   "source": [
    "## The box plot for video titles and their lengths. This box plot will help us determine what are the best title lengths for a video to be viral"
   ]
  },
  {
   "cell_type": "markdown",
   "metadata": {},
   "source": [
    "## Box plot for video titles and their lengths"
   ]
  },
  {
   "cell_type": "code",
   "execution_count": 86,
   "metadata": {},
   "outputs": [
    {
     "data": {
      "text/plain": [
       "<matplotlib.axes._subplots.AxesSubplot at 0x1b72780ca58>"
      ]
     },
     "execution_count": 86,
     "metadata": {},
     "output_type": "execute_result"
    },
    {
     "data": {
      "image/png": "[encoded data removed]",
      "text/plain": [
       "<Figure size 432x288 with 1 Axes>"
      ]
     },
     "metadata": {
      "needs_background": "light"
     },
     "output_type": "display_data"
    }
   ],
   "source": [
    "usData.sort_values(by='comment_count', ascending=False).head(10).plot.bar(x='category',y='comment_count')"
   ]
  },
  {
   "cell_type": "markdown",
   "metadata": {},
   "source": [
    "## Most commented on videos based on category"
   ]
  },
  {
   "cell_type": "code",
   "execution_count": 135,
   "metadata": {},
   "outputs": [],
   "source": [
    "ukData = pd.read_csv('../Data/Youtube/GBvideos.csv')"
   ]
  },
  {
   "cell_type": "code",
   "execution_count": 136,
   "metadata": {
    "scrolled": true
   },
   "outputs": [
    {
     "data": {
      "text/plain": [
       "Maroon 5 - Wait                                                                                     40\n",
       "To Our Daughter                                                                                     38\n",
       "Anne-Marie - 2002 [Official Video]                                                                  38\n",
       "Justin Timberlake’s FULL Pepsi Super Bowl LII Halftime Show! | NFL Highlights                       38\n",
       "Jurassic World: Fallen Kingdom - Official Trailer #2 [HD]                                           38\n",
       "Janelle Monáe – Make Me Feel [Official Music Video]                                                 37\n",
       "Sam Smith - Pray (Official Video) ft. Logic                                                         37\n",
       "Enrique Iglesias - MOVE TO MIAMI (Official Video) ft. Pitbull                                       37\n",
       "Rich Brian - Cold (Official Music Video)                                                            37\n",
       "VENOM - Official Teaser Trailer (HD)                                                                37\n",
       "Whethan, Dua Lipa - High (Audio)                                                                    37\n",
       "BHAD BHABIE feat. Lil Yachty - Gucci Flip Flops (Official Music Video) | Danielle Bregoli           37\n",
       "Incredibles 2 - Olympics Sneak Peek                                                                 37\n",
       "Royce da 5'9 - Caterpillar ft. Eminem, King Green                                                   37\n",
       "Florence + The Machine - Hunger                                                                     37\n",
       "Fergie Performs The U.S. National Anthem / 2018 NBA All-Star Game                                   37\n",
       "Pawn Stars: Dana White Wants Rick's 1600s Japanese Katana (Season 15) | History                     36\n",
       "Migos x Tasty Whip Up Stir Fry                                                                      36\n",
       "Tory Lanez Kills The 5 Fingers of Death (9 Minute Freestyle)                                        36\n",
       "Bad Bunny - Amorfoda | Video Oficial                                                                36\n",
       "Iggy Azalea - Savior ft. Quavo                                                                      36\n",
       "James Bay - Slide (Live)                                                                            36\n",
       "TWICE「BRAND NEW GIRL」Music Video                                                                    36\n",
       "Meghan Trainor - No Excuses                                                                         36\n",
       "Incredibles 2 Official Trailer                                                                      36\n",
       "Childish Gambino - This Is America (Official Video)                                                 36\n",
       "Nicki Minaj - Chun-Li                                                                               36\n",
       "Miguel - Come Through and Chill (Official Video) ft. J. Cole, Salaam Remi                           36\n",
       "Avengers: Infinity War | Marvel Family Feud                                                         36\n",
       "J. Cole - ATM                                                                                       36\n",
       "                                                                                                    ..\n",
       "WTF is this VENOM Teaser?! Marvel Shake-Ups & More! - News Dump                                      1\n",
       "Sam Smith: One Last Song                                                                             1\n",
       "Johnny Marr - Hi Hello - Official Music Video [HD]                                                   1\n",
       "Stephen Takes Issue With The 'Sexiest Man Alive' Issue                                               1\n",
       "Wheel of Freestyle with Black Panther's Letitia Wright                                               1\n",
       "Musical Genre Challenge with Ariana Grande                                                           1\n",
       "Expert Explains One Concept in 5 Levels of Difficulty - Blockchain | WIRED                           1\n",
       "St. Vincent: Slow Disco                                                                              1\n",
       "MENTAL HEALTH CHAT, CHAMPAGNE & CAKE!                                                                1\n",
       "Voynich Manuscript Revealed (2018)                                                                   1\n",
       "Luis Fonsi, Demi Lovato - Échame La Culpa                                                            1\n",
       "The Chainsmokers - Somebody ft. Drew Love (Rory Kramer Vision)                                       1\n",
       "Hilary Duff Is Having a Baby Girl and Her Son Has a Name                                             1\n",
       "Guest Host Jennifer Lawrence Interviews Kim Kardashian West                                          1\n",
       "The Lava Lamps That Help Keep The Internet Secure                                                    1\n",
       "Liam Payne and Rita Ora: For You (Fifty Shades Freed)                                                1\n",
       "Yvolution Y Fliker - Available at Toys R Us                                                          1\n",
       "THE LAST (Gasp of The) JEDI: A Rant                                                                  1\n",
       "WWE fan interrupts Paul Heyman and Brock Lesnar to propose to his girlfriend: Raw, Nov. 13, 2017     1\n",
       "Kelly Clarkson Carpool Karaoke                                                                       1\n",
       "How To Have Fun With Dogs - More Fun More Excited With Your Pet                                      1\n",
       "President Trump arrives at the White House from Camp David. Jan 7, 2018.                             1\n",
       "Meryl Streep Fails Oscar Quiz About Herself                                                          1\n",
       "Dumbo Official Teaser Trailer                                                                        1\n",
       "Future - No Shame (Future feat. PARTYNEXTDOOR) ft. PARTYNEXTDOOR                                     1\n",
       "Young Dylan Covers Kendrick Lamar                                                                    1\n",
       "Seth Rollins & Dean Ambrose vs. Cesaro & Sheamus - Raw Tag Team Title Match: Raw, Nov. 6, 2017       1\n",
       "A FAST GRWM! OUTFIT, MAKEUP, NAILS & GO | ad                                                         1\n",
       "Our Favourite Things (with Manager Josh!) - COLLABMAS DAY 9                                          1\n",
       "Sorry to Bother You Trailer #1 (2018) | Movieclips Trailers                                          1\n",
       "Name: title, Length: 3369, dtype: int64"
      ]
     },
     "execution_count": 136,
     "metadata": {},
     "output_type": "execute_result"
    }
   ],
   "source": [
    "ukData.title.value_counts()"
   ]
  },
  {
   "cell_type": "code",
   "execution_count": 139,
   "metadata": {},
   "outputs": [
    {
     "data": {
      "text/html": [
       "<div>\n",
       "<style scoped>\n",
       "    .dataframe tbody tr th:only-of-type {\n",
       "        vertical-align: middle;\n",
       "    }\n",
       "\n",
       "    .dataframe tbody tr th {\n",
       "        vertical-align: top;\n",
       "    }\n",
       "\n",
       "    .dataframe thead th {\n",
       "        text-align: right;\n",
       "    }\n",
       "</style>\n",
       "<table border=\"1\" class=\"dataframe\">\n",
       "  <thead>\n",
       "    <tr style=\"text-align: right;\">\n",
       "      <th></th>\n",
       "      <th>video_id</th>\n",
       "      <th>trending_date</th>\n",
       "      <th>title</th>\n",
       "      <th>channel_title</th>\n",
       "      <th>publish_time</th>\n",
       "      <th>tags</th>\n",
       "      <th>views</th>\n",
       "      <th>likes</th>\n",
       "      <th>dislikes</th>\n",
       "      <th>comment_count</th>\n",
       "      <th>thumbnail_link</th>\n",
       "      <th>comments_disabled</th>\n",
       "      <th>ratings_disabled</th>\n",
       "      <th>video_error_or_removed</th>\n",
       "      <th>description</th>\n",
       "      <th>category</th>\n",
       "      <th>trending_month</th>\n",
       "      <th>trending_year</th>\n",
       "    </tr>\n",
       "  </thead>\n",
       "  <tbody>\n",
       "    <tr>\n",
       "      <th>27941</th>\n",
       "      <td>TnCa71iUVxA</td>\n",
       "      <td>2018-01-18</td>\n",
       "      <td>Maroon 5 - Wait</td>\n",
       "      <td>Maroon5VEVO</td>\n",
       "      <td>2018-01-17T17:00:03.000Z</td>\n",
       "      <td>maroon,wait,222,records/interscope,records,pop</td>\n",
       "      <td>692807</td>\n",
       "      <td>70211</td>\n",
       "      <td>2689</td>\n",
       "      <td>5205</td>\n",
       "      <td>https://i.ytimg.com/vi/TnCa71iUVxA/default.jpg</td>\n",
       "      <td>False</td>\n",
       "      <td>False</td>\n",
       "      <td>False</td>\n",
       "      <td>RED PILL BLUES” is out now.\\nhttp://smarturl.i...</td>\n",
       "      <td>Music</td>\n",
       "      <td>1</td>\n",
       "      <td>2018</td>\n",
       "    </tr>\n",
       "    <tr>\n",
       "      <th>27964</th>\n",
       "      <td>TnCa71iUVxA</td>\n",
       "      <td>2018-01-19</td>\n",
       "      <td>Maroon 5 - Wait</td>\n",
       "      <td>Maroon5VEVO</td>\n",
       "      <td>2018-01-17T17:00:03.000Z</td>\n",
       "      <td>maroon,wait,222,records/interscope,records,pop</td>\n",
       "      <td>1752229</td>\n",
       "      <td>129155</td>\n",
       "      <td>4940</td>\n",
       "      <td>7555</td>\n",
       "      <td>https://i.ytimg.com/vi/TnCa71iUVxA/default.jpg</td>\n",
       "      <td>False</td>\n",
       "      <td>False</td>\n",
       "      <td>False</td>\n",
       "      <td>RED PILL BLUES” is out now.\\nhttp://smarturl.i...</td>\n",
       "      <td>Music</td>\n",
       "      <td>1</td>\n",
       "      <td>2018</td>\n",
       "    </tr>\n",
       "    <tr>\n",
       "      <th>27989</th>\n",
       "      <td>TnCa71iUVxA</td>\n",
       "      <td>2018-01-20</td>\n",
       "      <td>Maroon 5 - Wait</td>\n",
       "      <td>Maroon5VEVO</td>\n",
       "      <td>2018-01-17T17:00:03.000Z</td>\n",
       "      <td>maroon,wait,222,records/interscope,records,pop</td>\n",
       "      <td>2759438</td>\n",
       "      <td>174489</td>\n",
       "      <td>6096</td>\n",
       "      <td>9064</td>\n",
       "      <td>https://i.ytimg.com/vi/TnCa71iUVxA/default.jpg</td>\n",
       "      <td>False</td>\n",
       "      <td>False</td>\n",
       "      <td>False</td>\n",
       "      <td>RED PILL BLUES” is out now.\\nhttp://smarturl.i...</td>\n",
       "      <td>Music</td>\n",
       "      <td>1</td>\n",
       "      <td>2018</td>\n",
       "    </tr>\n",
       "    <tr>\n",
       "      <th>28013</th>\n",
       "      <td>TnCa71iUVxA</td>\n",
       "      <td>2018-01-21</td>\n",
       "      <td>Maroon 5 - Wait</td>\n",
       "      <td>Maroon5VEVO</td>\n",
       "      <td>2018-01-17T17:00:03.000Z</td>\n",
       "      <td>maroon,wait,222,records/interscope,records,pop</td>\n",
       "      <td>3567363</td>\n",
       "      <td>203773</td>\n",
       "      <td>6854</td>\n",
       "      <td>9857</td>\n",
       "      <td>https://i.ytimg.com/vi/TnCa71iUVxA/default.jpg</td>\n",
       "      <td>False</td>\n",
       "      <td>False</td>\n",
       "      <td>False</td>\n",
       "      <td>RED PILL BLUES” is out now.\\nhttp://smarturl.i...</td>\n",
       "      <td>Music</td>\n",
       "      <td>1</td>\n",
       "      <td>2018</td>\n",
       "    </tr>\n",
       "    <tr>\n",
       "      <th>28038</th>\n",
       "      <td>TnCa71iUVxA</td>\n",
       "      <td>2018-01-22</td>\n",
       "      <td>Maroon 5 - Wait</td>\n",
       "      <td>Maroon5VEVO</td>\n",
       "      <td>2018-01-17T17:00:03.000Z</td>\n",
       "      <td>maroon,wait,222,records/interscope,records,pop</td>\n",
       "      <td>4275831</td>\n",
       "      <td>225213</td>\n",
       "      <td>7342</td>\n",
       "      <td>10503</td>\n",
       "      <td>https://i.ytimg.com/vi/TnCa71iUVxA/default.jpg</td>\n",
       "      <td>False</td>\n",
       "      <td>False</td>\n",
       "      <td>False</td>\n",
       "      <td>RED PILL BLUES” is out now.\\nhttp://smarturl.i...</td>\n",
       "      <td>Music</td>\n",
       "      <td>1</td>\n",
       "      <td>2018</td>\n",
       "    </tr>\n",
       "    <tr>\n",
       "      <th>28061</th>\n",
       "      <td>TnCa71iUVxA</td>\n",
       "      <td>2018-01-23</td>\n",
       "      <td>Maroon 5 - Wait</td>\n",
       "      <td>Maroon5VEVO</td>\n",
       "      <td>2018-01-17T17:00:03.000Z</td>\n",
       "      <td>maroon,wait,222,records/interscope,records,pop</td>\n",
       "      <td>4994006</td>\n",
       "      <td>242031</td>\n",
       "      <td>7817</td>\n",
       "      <td>10810</td>\n",
       "      <td>https://i.ytimg.com/vi/TnCa71iUVxA/default.jpg</td>\n",
       "      <td>False</td>\n",
       "      <td>False</td>\n",
       "      <td>False</td>\n",
       "      <td>RED PILL BLUES” is out now.\\nhttp://smarturl.i...</td>\n",
       "      <td>Music</td>\n",
       "      <td>1</td>\n",
       "      <td>2018</td>\n",
       "    </tr>\n",
       "    <tr>\n",
       "      <th>28086</th>\n",
       "      <td>TnCa71iUVxA</td>\n",
       "      <td>2018-01-24</td>\n",
       "      <td>Maroon 5 - Wait</td>\n",
       "      <td>Maroon5VEVO</td>\n",
       "      <td>2018-01-17T17:00:03.000Z</td>\n",
       "      <td>maroon,wait,222,records/interscope,records,pop</td>\n",
       "      <td>5668569</td>\n",
       "      <td>254875</td>\n",
       "      <td>8187</td>\n",
       "      <td>11138</td>\n",
       "      <td>https://i.ytimg.com/vi/TnCa71iUVxA/default.jpg</td>\n",
       "      <td>False</td>\n",
       "      <td>False</td>\n",
       "      <td>False</td>\n",
       "      <td>RED PILL BLUES” is out now.\\nhttp://smarturl.i...</td>\n",
       "      <td>Music</td>\n",
       "      <td>1</td>\n",
       "      <td>2018</td>\n",
       "    </tr>\n",
       "    <tr>\n",
       "      <th>28114</th>\n",
       "      <td>TnCa71iUVxA</td>\n",
       "      <td>2018-01-25</td>\n",
       "      <td>Maroon 5 - Wait</td>\n",
       "      <td>Maroon5VEVO</td>\n",
       "      <td>2018-01-17T17:00:03.000Z</td>\n",
       "      <td>maroon,wait,222,records/interscope,records,pop</td>\n",
       "      <td>6353130</td>\n",
       "      <td>267032</td>\n",
       "      <td>8516</td>\n",
       "      <td>11456</td>\n",
       "      <td>https://i.ytimg.com/vi/TnCa71iUVxA/default.jpg</td>\n",
       "      <td>False</td>\n",
       "      <td>False</td>\n",
       "      <td>False</td>\n",
       "      <td>RED PILL BLUES” is out now.\\nhttp://smarturl.i...</td>\n",
       "      <td>Music</td>\n",
       "      <td>1</td>\n",
       "      <td>2018</td>\n",
       "    </tr>\n",
       "    <tr>\n",
       "      <th>28540</th>\n",
       "      <td>4uTNVumfm84</td>\n",
       "      <td>2018-02-09</td>\n",
       "      <td>Maroon 5 - Wait</td>\n",
       "      <td>Maroon5VEVO</td>\n",
       "      <td>2018-02-08T14:00:00.000Z</td>\n",
       "      <td>maroon,wait,222,records/interscope,records,pop</td>\n",
       "      <td>2455067</td>\n",
       "      <td>197019</td>\n",
       "      <td>3139</td>\n",
       "      <td>11356</td>\n",
       "      <td>https://i.ytimg.com/vi/4uTNVumfm84/default.jpg</td>\n",
       "      <td>False</td>\n",
       "      <td>False</td>\n",
       "      <td>False</td>\n",
       "      <td>RED PILL BLUES” is out now.\\nhttp://smarturl.i...</td>\n",
       "      <td>Music</td>\n",
       "      <td>2</td>\n",
       "      <td>2018</td>\n",
       "    </tr>\n",
       "    <tr>\n",
       "      <th>28561</th>\n",
       "      <td>4uTNVumfm84</td>\n",
       "      <td>2018-02-10</td>\n",
       "      <td>Maroon 5 - Wait</td>\n",
       "      <td>Maroon5VEVO</td>\n",
       "      <td>2018-02-08T14:00:00.000Z</td>\n",
       "      <td>maroon,wait,222,records/interscope,records,pop</td>\n",
       "      <td>5163583</td>\n",
       "      <td>279830</td>\n",
       "      <td>5231</td>\n",
       "      <td>14956</td>\n",
       "      <td>https://i.ytimg.com/vi/4uTNVumfm84/default.jpg</td>\n",
       "      <td>False</td>\n",
       "      <td>False</td>\n",
       "      <td>False</td>\n",
       "      <td>RED PILL BLUES” is out now.\\nhttp://smarturl.i...</td>\n",
       "      <td>Music</td>\n",
       "      <td>2</td>\n",
       "      <td>2018</td>\n",
       "    </tr>\n",
       "    <tr>\n",
       "      <th>28587</th>\n",
       "      <td>4uTNVumfm84</td>\n",
       "      <td>2018-02-11</td>\n",
       "      <td>Maroon 5 - Wait</td>\n",
       "      <td>Maroon5VEVO</td>\n",
       "      <td>2018-02-08T14:00:00.000Z</td>\n",
       "      <td>maroon,wait,222,records/interscope,records,pop</td>\n",
       "      <td>6805040</td>\n",
       "      <td>310478</td>\n",
       "      <td>6082</td>\n",
       "      <td>16122</td>\n",
       "      <td>https://i.ytimg.com/vi/4uTNVumfm84/default.jpg</td>\n",
       "      <td>False</td>\n",
       "      <td>False</td>\n",
       "      <td>False</td>\n",
       "      <td>RED PILL BLUES” is out now.\\nhttp://smarturl.i...</td>\n",
       "      <td>Music</td>\n",
       "      <td>2</td>\n",
       "      <td>2018</td>\n",
       "    </tr>\n",
       "    <tr>\n",
       "      <th>28612</th>\n",
       "      <td>4uTNVumfm84</td>\n",
       "      <td>2018-02-12</td>\n",
       "      <td>Maroon 5 - Wait</td>\n",
       "      <td>Maroon5VEVO</td>\n",
       "      <td>2018-02-08T14:00:00.000Z</td>\n",
       "      <td>maroon,wait,222,records/interscope,records,pop</td>\n",
       "      <td>8474142</td>\n",
       "      <td>336074</td>\n",
       "      <td>6857</td>\n",
       "      <td>16868</td>\n",
       "      <td>https://i.ytimg.com/vi/4uTNVumfm84/default.jpg</td>\n",
       "      <td>False</td>\n",
       "      <td>False</td>\n",
       "      <td>False</td>\n",
       "      <td>RED PILL BLUES” is out now.\\nhttp://smarturl.i...</td>\n",
       "      <td>Music</td>\n",
       "      <td>2</td>\n",
       "      <td>2018</td>\n",
       "    </tr>\n",
       "    <tr>\n",
       "      <th>28635</th>\n",
       "      <td>4uTNVumfm84</td>\n",
       "      <td>2018-02-13</td>\n",
       "      <td>Maroon 5 - Wait</td>\n",
       "      <td>Maroon5VEVO</td>\n",
       "      <td>2018-02-08T14:00:00.000Z</td>\n",
       "      <td>maroon,wait,222,records/interscope,records,pop</td>\n",
       "      <td>9732618</td>\n",
       "      <td>360456</td>\n",
       "      <td>7658</td>\n",
       "      <td>17120</td>\n",
       "      <td>https://i.ytimg.com/vi/4uTNVumfm84/default.jpg</td>\n",
       "      <td>False</td>\n",
       "      <td>False</td>\n",
       "      <td>False</td>\n",
       "      <td>RED PILL BLUES” is out now.\\nhttp://smarturl.i...</td>\n",
       "      <td>Music</td>\n",
       "      <td>2</td>\n",
       "      <td>2018</td>\n",
       "    </tr>\n",
       "    <tr>\n",
       "      <th>28661</th>\n",
       "      <td>4uTNVumfm84</td>\n",
       "      <td>2018-02-14</td>\n",
       "      <td>Maroon 5 - Wait</td>\n",
       "      <td>Maroon5VEVO</td>\n",
       "      <td>2018-02-08T14:00:00.000Z</td>\n",
       "      <td>maroon,wait,222,records/interscope,records,pop</td>\n",
       "      <td>11907723</td>\n",
       "      <td>381636</td>\n",
       "      <td>8285</td>\n",
       "      <td>17526</td>\n",
       "      <td>https://i.ytimg.com/vi/4uTNVumfm84/default.jpg</td>\n",
       "      <td>False</td>\n",
       "      <td>False</td>\n",
       "      <td>False</td>\n",
       "      <td>RED PILL BLUES” is out now.\\nhttp://smarturl.i...</td>\n",
       "      <td>Music</td>\n",
       "      <td>2</td>\n",
       "      <td>2018</td>\n",
       "    </tr>\n",
       "    <tr>\n",
       "      <th>28694</th>\n",
       "      <td>4uTNVumfm84</td>\n",
       "      <td>2018-02-15</td>\n",
       "      <td>Maroon 5 - Wait</td>\n",
       "      <td>Maroon5VEVO</td>\n",
       "      <td>2018-02-08T14:00:00.000Z</td>\n",
       "      <td>maroon,wait,222,records/interscope,records,pop</td>\n",
       "      <td>14011385</td>\n",
       "      <td>409020</td>\n",
       "      <td>9078</td>\n",
       "      <td>18446</td>\n",
       "      <td>https://i.ytimg.com/vi/4uTNVumfm84/default.jpg</td>\n",
       "      <td>False</td>\n",
       "      <td>False</td>\n",
       "      <td>False</td>\n",
       "      <td>RED PILL BLUES” is out now.\\nhttp://smarturl.i...</td>\n",
       "      <td>Music</td>\n",
       "      <td>2</td>\n",
       "      <td>2018</td>\n",
       "    </tr>\n",
       "    <tr>\n",
       "      <th>28728</th>\n",
       "      <td>4uTNVumfm84</td>\n",
       "      <td>2018-02-16</td>\n",
       "      <td>Maroon 5 - Wait</td>\n",
       "      <td>Maroon5VEVO</td>\n",
       "      <td>2018-02-08T14:00:00.000Z</td>\n",
       "      <td>maroon,wait,222,records/interscope,records,pop</td>\n",
       "      <td>15281609</td>\n",
       "      <td>421532</td>\n",
       "      <td>9412</td>\n",
       "      <td>18735</td>\n",
       "      <td>https://i.ytimg.com/vi/4uTNVumfm84/default.jpg</td>\n",
       "      <td>False</td>\n",
       "      <td>False</td>\n",
       "      <td>False</td>\n",
       "      <td>RED PILL BLUES” is out now.\\nhttp://smarturl.i...</td>\n",
       "      <td>Music</td>\n",
       "      <td>2</td>\n",
       "      <td>2018</td>\n",
       "    </tr>\n",
       "    <tr>\n",
       "      <th>28768</th>\n",
       "      <td>4uTNVumfm84</td>\n",
       "      <td>2018-02-17</td>\n",
       "      <td>Maroon 5 - Wait</td>\n",
       "      <td>Maroon5VEVO</td>\n",
       "      <td>2018-02-08T14:00:00.000Z</td>\n",
       "      <td>maroon,wait,222,records/interscope,records,pop</td>\n",
       "      <td>16822805</td>\n",
       "      <td>436675</td>\n",
       "      <td>9870</td>\n",
       "      <td>19119</td>\n",
       "      <td>https://i.ytimg.com/vi/4uTNVumfm84/default.jpg</td>\n",
       "      <td>False</td>\n",
       "      <td>False</td>\n",
       "      <td>False</td>\n",
       "      <td>RED PILL BLUES” is out now.\\nhttp://smarturl.i...</td>\n",
       "      <td>Music</td>\n",
       "      <td>2</td>\n",
       "      <td>2018</td>\n",
       "    </tr>\n",
       "    <tr>\n",
       "      <th>28805</th>\n",
       "      <td>4uTNVumfm84</td>\n",
       "      <td>2018-02-18</td>\n",
       "      <td>Maroon 5 - Wait</td>\n",
       "      <td>Maroon5VEVO</td>\n",
       "      <td>2018-02-08T14:00:00.000Z</td>\n",
       "      <td>maroon,wait,222,records/interscope,records,pop</td>\n",
       "      <td>18312570</td>\n",
       "      <td>450885</td>\n",
       "      <td>10280</td>\n",
       "      <td>19437</td>\n",
       "      <td>https://i.ytimg.com/vi/4uTNVumfm84/default.jpg</td>\n",
       "      <td>False</td>\n",
       "      <td>False</td>\n",
       "      <td>False</td>\n",
       "      <td>RED PILL BLUES” is out now.\\nhttp://smarturl.i...</td>\n",
       "      <td>Music</td>\n",
       "      <td>2</td>\n",
       "      <td>2018</td>\n",
       "    </tr>\n",
       "  </tbody>\n",
       "</table>\n",
       "</div>"
      ],
      "text/plain": [
       "          video_id trending_date            title channel_title  \\\n",
       "27941  TnCa71iUVxA    2018-01-18  Maroon 5 - Wait   Maroon5VEVO   \n",
       "27964  TnCa71iUVxA    2018-01-19  Maroon 5 - Wait   Maroon5VEVO   \n",
       "27989  TnCa71iUVxA    2018-01-20  Maroon 5 - Wait   Maroon5VEVO   \n",
       "28013  TnCa71iUVxA    2018-01-21  Maroon 5 - Wait   Maroon5VEVO   \n",
       "28038  TnCa71iUVxA    2018-01-22  Maroon 5 - Wait   Maroon5VEVO   \n",
       "28061  TnCa71iUVxA    2018-01-23  Maroon 5 - Wait   Maroon5VEVO   \n",
       "28086  TnCa71iUVxA    2018-01-24  Maroon 5 - Wait   Maroon5VEVO   \n",
       "28114  TnCa71iUVxA    2018-01-25  Maroon 5 - Wait   Maroon5VEVO   \n",
       "28540  4uTNVumfm84    2018-02-09  Maroon 5 - Wait   Maroon5VEVO   \n",
       "28561  4uTNVumfm84    2018-02-10  Maroon 5 - Wait   Maroon5VEVO   \n",
       "28587  4uTNVumfm84    2018-02-11  Maroon 5 - Wait   Maroon5VEVO   \n",
       "28612  4uTNVumfm84    2018-02-12  Maroon 5 - Wait   Maroon5VEVO   \n",
       "28635  4uTNVumfm84    2018-02-13  Maroon 5 - Wait   Maroon5VEVO   \n",
       "28661  4uTNVumfm84    2018-02-14  Maroon 5 - Wait   Maroon5VEVO   \n",
       "28694  4uTNVumfm84    2018-02-15  Maroon 5 - Wait   Maroon5VEVO   \n",
       "28728  4uTNVumfm84    2018-02-16  Maroon 5 - Wait   Maroon5VEVO   \n",
       "28768  4uTNVumfm84    2018-02-17  Maroon 5 - Wait   Maroon5VEVO   \n",
       "28805  4uTNVumfm84    2018-02-18  Maroon 5 - Wait   Maroon5VEVO   \n",
       "\n",
       "                   publish_time  \\\n",
       "27941  2018-01-17T17:00:03.000Z   \n",
       "27964  2018-01-17T17:00:03.000Z   \n",
       "27989  2018-01-17T17:00:03.000Z   \n",
       "28013  2018-01-17T17:00:03.000Z   \n",
       "28038  2018-01-17T17:00:03.000Z   \n",
       "28061  2018-01-17T17:00:03.000Z   \n",
       "28086  2018-01-17T17:00:03.000Z   \n",
       "28114  2018-01-17T17:00:03.000Z   \n",
       "28540  2018-02-08T14:00:00.000Z   \n",
       "28561  2018-02-08T14:00:00.000Z   \n",
       "28587  2018-02-08T14:00:00.000Z   \n",
       "28612  2018-02-08T14:00:00.000Z   \n",
       "28635  2018-02-08T14:00:00.000Z   \n",
       "28661  2018-02-08T14:00:00.000Z   \n",
       "28694  2018-02-08T14:00:00.000Z   \n",
       "28728  2018-02-08T14:00:00.000Z   \n",
       "28768  2018-02-08T14:00:00.000Z   \n",
       "28805  2018-02-08T14:00:00.000Z   \n",
       "\n",
       "                                                 tags     views   likes  \\\n",
       "27941  maroon,wait,222,records/interscope,records,pop    692807   70211   \n",
       "27964  maroon,wait,222,records/interscope,records,pop   1752229  129155   \n",
       "27989  maroon,wait,222,records/interscope,records,pop   2759438  174489   \n",
       "28013  maroon,wait,222,records/interscope,records,pop   3567363  203773   \n",
       "28038  maroon,wait,222,records/interscope,records,pop   4275831  225213   \n",
       "28061  maroon,wait,222,records/interscope,records,pop   4994006  242031   \n",
       "28086  maroon,wait,222,records/interscope,records,pop   5668569  254875   \n",
       "28114  maroon,wait,222,records/interscope,records,pop   6353130  267032   \n",
       "28540  maroon,wait,222,records/interscope,records,pop   2455067  197019   \n",
       "28561  maroon,wait,222,records/interscope,records,pop   5163583  279830   \n",
       "28587  maroon,wait,222,records/interscope,records,pop   6805040  310478   \n",
       "28612  maroon,wait,222,records/interscope,records,pop   8474142  336074   \n",
       "28635  maroon,wait,222,records/interscope,records,pop   9732618  360456   \n",
       "28661  maroon,wait,222,records/interscope,records,pop  11907723  381636   \n",
       "28694  maroon,wait,222,records/interscope,records,pop  14011385  409020   \n",
       "28728  maroon,wait,222,records/interscope,records,pop  15281609  421532   \n",
       "28768  maroon,wait,222,records/interscope,records,pop  16822805  436675   \n",
       "28805  maroon,wait,222,records/interscope,records,pop  18312570  450885   \n",
       "\n",
       "       dislikes  comment_count  \\\n",
       "27941      2689           5205   \n",
       "27964      4940           7555   \n",
       "27989      6096           9064   \n",
       "28013      6854           9857   \n",
       "28038      7342          10503   \n",
       "28061      7817          10810   \n",
       "28086      8187          11138   \n",
       "28114      8516          11456   \n",
       "28540      3139          11356   \n",
       "28561      5231          14956   \n",
       "28587      6082          16122   \n",
       "28612      6857          16868   \n",
       "28635      7658          17120   \n",
       "28661      8285          17526   \n",
       "28694      9078          18446   \n",
       "28728      9412          18735   \n",
       "28768      9870          19119   \n",
       "28805     10280          19437   \n",
       "\n",
       "                                       thumbnail_link  comments_disabled  \\\n",
       "27941  https://i.ytimg.com/vi/TnCa71iUVxA/default.jpg              False   \n",
       "27964  https://i.ytimg.com/vi/TnCa71iUVxA/default.jpg              False   \n",
       "27989  https://i.ytimg.com/vi/TnCa71iUVxA/default.jpg              False   \n",
       "28013  https://i.ytimg.com/vi/TnCa71iUVxA/default.jpg              False   \n",
       "28038  https://i.ytimg.com/vi/TnCa71iUVxA/default.jpg              False   \n",
       "28061  https://i.ytimg.com/vi/TnCa71iUVxA/default.jpg              False   \n",
       "28086  https://i.ytimg.com/vi/TnCa71iUVxA/default.jpg              False   \n",
       "28114  https://i.ytimg.com/vi/TnCa71iUVxA/default.jpg              False   \n",
       "28540  https://i.ytimg.com/vi/4uTNVumfm84/default.jpg              False   \n",
       "28561  https://i.ytimg.com/vi/4uTNVumfm84/default.jpg              False   \n",
       "28587  https://i.ytimg.com/vi/4uTNVumfm84/default.jpg              False   \n",
       "28612  https://i.ytimg.com/vi/4uTNVumfm84/default.jpg              False   \n",
       "28635  https://i.ytimg.com/vi/4uTNVumfm84/default.jpg              False   \n",
       "28661  https://i.ytimg.com/vi/4uTNVumfm84/default.jpg              False   \n",
       "28694  https://i.ytimg.com/vi/4uTNVumfm84/default.jpg              False   \n",
       "28728  https://i.ytimg.com/vi/4uTNVumfm84/default.jpg              False   \n",
       "28768  https://i.ytimg.com/vi/4uTNVumfm84/default.jpg              False   \n",
       "28805  https://i.ytimg.com/vi/4uTNVumfm84/default.jpg              False   \n",
       "\n",
       "       ratings_disabled  video_error_or_removed  \\\n",
       "27941             False                   False   \n",
       "27964             False                   False   \n",
       "27989             False                   False   \n",
       "28013             False                   False   \n",
       "28038             False                   False   \n",
       "28061             False                   False   \n",
       "28086             False                   False   \n",
       "28114             False                   False   \n",
       "28540             False                   False   \n",
       "28561             False                   False   \n",
       "28587             False                   False   \n",
       "28612             False                   False   \n",
       "28635             False                   False   \n",
       "28661             False                   False   \n",
       "28694             False                   False   \n",
       "28728             False                   False   \n",
       "28768             False                   False   \n",
       "28805             False                   False   \n",
       "\n",
       "                                             description category  \\\n",
       "27941  RED PILL BLUES” is out now.\\nhttp://smarturl.i...    Music   \n",
       "27964  RED PILL BLUES” is out now.\\nhttp://smarturl.i...    Music   \n",
       "27989  RED PILL BLUES” is out now.\\nhttp://smarturl.i...    Music   \n",
       "28013  RED PILL BLUES” is out now.\\nhttp://smarturl.i...    Music   \n",
       "28038  RED PILL BLUES” is out now.\\nhttp://smarturl.i...    Music   \n",
       "28061  RED PILL BLUES” is out now.\\nhttp://smarturl.i...    Music   \n",
       "28086  RED PILL BLUES” is out now.\\nhttp://smarturl.i...    Music   \n",
       "28114  RED PILL BLUES” is out now.\\nhttp://smarturl.i...    Music   \n",
       "28540  RED PILL BLUES” is out now.\\nhttp://smarturl.i...    Music   \n",
       "28561  RED PILL BLUES” is out now.\\nhttp://smarturl.i...    Music   \n",
       "28587  RED PILL BLUES” is out now.\\nhttp://smarturl.i...    Music   \n",
       "28612  RED PILL BLUES” is out now.\\nhttp://smarturl.i...    Music   \n",
       "28635  RED PILL BLUES” is out now.\\nhttp://smarturl.i...    Music   \n",
       "28661  RED PILL BLUES” is out now.\\nhttp://smarturl.i...    Music   \n",
       "28694  RED PILL BLUES” is out now.\\nhttp://smarturl.i...    Music   \n",
       "28728  RED PILL BLUES” is out now.\\nhttp://smarturl.i...    Music   \n",
       "28768  RED PILL BLUES” is out now.\\nhttp://smarturl.i...    Music   \n",
       "28805  RED PILL BLUES” is out now.\\nhttp://smarturl.i...    Music   \n",
       "\n",
       "       trending_month  trending_year  \n",
       "27941               1           2018  \n",
       "27964               1           2018  \n",
       "27989               1           2018  \n",
       "28013               1           2018  \n",
       "28038               1           2018  \n",
       "28061               1           2018  \n",
       "28086               1           2018  \n",
       "28114               1           2018  \n",
       "28540               2           2018  \n",
       "28561               2           2018  \n",
       "28587               2           2018  \n",
       "28612               2           2018  \n",
       "28635               2           2018  \n",
       "28661               2           2018  \n",
       "28694               2           2018  \n",
       "28728               2           2018  \n",
       "28768               2           2018  \n",
       "28805               2           2018  "
      ]
     },
     "execution_count": 139,
     "metadata": {},
     "output_type": "execute_result"
    }
   ],
   "source": [
    "usData[usData.title=='Maroon 5 - Wait']"
   ]
  },
  {
   "cell_type": "code",
   "execution_count": null,
   "metadata": {},
   "outputs": [],
   "source": []
  }
 ],
 "metadata": {
  "kernelspec": {
   "display_name": "Python 3",
   "language": "python",
   "name": "python3"
  },
  "language_info": {
   "codemirror_mode": {
    "name": "ipython",
    "version": 3
   },
   "file_extension": ".py",
   "mimetype": "text/x-python",
   "name": "python",
   "nbconvert_exporter": "python",
   "pygments_lexer": "ipython3",
   "version": "3.6.8"
  }
 },
 "nbformat": 4,
 "nbformat_minor": 2
}
