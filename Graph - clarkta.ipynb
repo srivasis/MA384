{
 "cells": [
  {
   "cell_type": "code",
   "execution_count": 1,
   "metadata": {},
   "outputs": [],
   "source": [
    "import pandas as pd\n",
    "import numpy as np\n",
    "import matplotlib.pyplot as plt\n",
    "from sklearn import tree\n",
    "from sklearn.model_selection import GridSearchCV\n",
    "import graphviz"
   ]
  },
  {
   "cell_type": "code",
   "execution_count": 2,
   "metadata": {},
   "outputs": [
    {
     "data": {
      "text/html": [
       "<div>\n",
       "<style scoped>\n",
       "    .dataframe tbody tr th:only-of-type {\n",
       "        vertical-align: middle;\n",
       "    }\n",
       "\n",
       "    .dataframe tbody tr th {\n",
       "        vertical-align: top;\n",
       "    }\n",
       "\n",
       "    .dataframe thead th {\n",
       "        text-align: right;\n",
       "    }\n",
       "</style>\n",
       "<table border=\"1\" class=\"dataframe\">\n",
       "  <thead>\n",
       "    <tr style=\"text-align: right;\">\n",
       "      <th></th>\n",
       "      <th>video_id</th>\n",
       "      <th>trending_date</th>\n",
       "      <th>title</th>\n",
       "      <th>channel_title</th>\n",
       "      <th>publish_time</th>\n",
       "      <th>tags</th>\n",
       "      <th>views</th>\n",
       "      <th>likes</th>\n",
       "      <th>dislikes</th>\n",
       "      <th>comment_count</th>\n",
       "      <th>thumbnail_link</th>\n",
       "      <th>comments_disabled</th>\n",
       "      <th>ratings_disabled</th>\n",
       "      <th>video_error_or_removed</th>\n",
       "      <th>description</th>\n",
       "      <th>category</th>\n",
       "    </tr>\n",
       "  </thead>\n",
       "  <tbody>\n",
       "    <tr>\n",
       "      <td>0</td>\n",
       "      <td>2kyS6SvSYSE</td>\n",
       "      <td>17.14.11</td>\n",
       "      <td>WE WANT TO TALK ABOUT OUR MARRIAGE</td>\n",
       "      <td>CaseyNeistat</td>\n",
       "      <td>2017-11-13T17:13:01.000Z</td>\n",
       "      <td>shantell martin</td>\n",
       "      <td>748374</td>\n",
       "      <td>57527</td>\n",
       "      <td>2966</td>\n",
       "      <td>15954</td>\n",
       "      <td>https://i.ytimg.com/vi/2kyS6SvSYSE/default.jpg</td>\n",
       "      <td>False</td>\n",
       "      <td>False</td>\n",
       "      <td>False</td>\n",
       "      <td>SHANTELL'S CHANNEL - https://www.youtube.com/s...</td>\n",
       "      <td>People &amp; Blogs</td>\n",
       "    </tr>\n",
       "    <tr>\n",
       "      <td>1</td>\n",
       "      <td>0mlNzVSJrT0</td>\n",
       "      <td>17.14.11</td>\n",
       "      <td>Me-O Cats Commercial</td>\n",
       "      <td>Nobrand</td>\n",
       "      <td>2017-04-21T06:47:32.000Z</td>\n",
       "      <td>cute,cats,thai,eggs</td>\n",
       "      <td>98966</td>\n",
       "      <td>2486</td>\n",
       "      <td>184</td>\n",
       "      <td>532</td>\n",
       "      <td>https://i.ytimg.com/vi/0mlNzVSJrT0/default.jpg</td>\n",
       "      <td>False</td>\n",
       "      <td>False</td>\n",
       "      <td>False</td>\n",
       "      <td>Kittens come out of the eggs in a Thai commerc...</td>\n",
       "      <td>People &amp; Blogs</td>\n",
       "    </tr>\n",
       "    <tr>\n",
       "      <td>2</td>\n",
       "      <td>STI2fI7sKMo</td>\n",
       "      <td>17.14.11</td>\n",
       "      <td>AFFAIRS, EX BOYFRIENDS, $18MILLION NET WORTH -...</td>\n",
       "      <td>Shawn Johnson East</td>\n",
       "      <td>2017-11-11T15:00:03.000Z</td>\n",
       "      <td>shawn johnson,andrew east,shawn east,shawn and...</td>\n",
       "      <td>321053</td>\n",
       "      <td>4451</td>\n",
       "      <td>1772</td>\n",
       "      <td>895</td>\n",
       "      <td>https://i.ytimg.com/vi/STI2fI7sKMo/default.jpg</td>\n",
       "      <td>False</td>\n",
       "      <td>False</td>\n",
       "      <td>False</td>\n",
       "      <td>Subscribe for weekly videos ▶ http://bit.ly/sj...</td>\n",
       "      <td>People &amp; Blogs</td>\n",
       "    </tr>\n",
       "    <tr>\n",
       "      <td>3</td>\n",
       "      <td>KODzih-pYlU</td>\n",
       "      <td>17.14.11</td>\n",
       "      <td>BLIND(folded) CAKE DECORATING CONTEST (with Mo...</td>\n",
       "      <td>Grace Helbig</td>\n",
       "      <td>2017-11-11T18:08:04.000Z</td>\n",
       "      <td>itsgrace,funny,comedy,vlog,grace,helbig,graceh...</td>\n",
       "      <td>197062</td>\n",
       "      <td>7250</td>\n",
       "      <td>217</td>\n",
       "      <td>456</td>\n",
       "      <td>https://i.ytimg.com/vi/KODzih-pYlU/default.jpg</td>\n",
       "      <td>False</td>\n",
       "      <td>False</td>\n",
       "      <td>False</td>\n",
       "      <td>Molly is an god damn amazing human and she cha...</td>\n",
       "      <td>People &amp; Blogs</td>\n",
       "    </tr>\n",
       "    <tr>\n",
       "      <td>4</td>\n",
       "      <td>8mhTWqWlQzU</td>\n",
       "      <td>17.14.11</td>\n",
       "      <td>Wearing Online Dollar Store Makeup For A Week</td>\n",
       "      <td>Safiya Nygaard</td>\n",
       "      <td>2017-11-11T01:19:33.000Z</td>\n",
       "      <td>wearing online dollar store makeup for a week,...</td>\n",
       "      <td>2744430</td>\n",
       "      <td>115426</td>\n",
       "      <td>1110</td>\n",
       "      <td>6541</td>\n",
       "      <td>https://i.ytimg.com/vi/8mhTWqWlQzU/default.jpg</td>\n",
       "      <td>False</td>\n",
       "      <td>False</td>\n",
       "      <td>False</td>\n",
       "      <td>I found this online dollar store called ShopMi...</td>\n",
       "      <td>People &amp; Blogs</td>\n",
       "    </tr>\n",
       "  </tbody>\n",
       "</table>\n",
       "</div>"
      ],
      "text/plain": [
       "      video_id trending_date  \\\n",
       "0  2kyS6SvSYSE      17.14.11   \n",
       "1  0mlNzVSJrT0      17.14.11   \n",
       "2  STI2fI7sKMo      17.14.11   \n",
       "3  KODzih-pYlU      17.14.11   \n",
       "4  8mhTWqWlQzU      17.14.11   \n",
       "\n",
       "                                               title       channel_title  \\\n",
       "0                 WE WANT TO TALK ABOUT OUR MARRIAGE        CaseyNeistat   \n",
       "1                               Me-O Cats Commercial             Nobrand   \n",
       "2  AFFAIRS, EX BOYFRIENDS, $18MILLION NET WORTH -...  Shawn Johnson East   \n",
       "3  BLIND(folded) CAKE DECORATING CONTEST (with Mo...        Grace Helbig   \n",
       "4      Wearing Online Dollar Store Makeup For A Week      Safiya Nygaard   \n",
       "\n",
       "               publish_time  \\\n",
       "0  2017-11-13T17:13:01.000Z   \n",
       "1  2017-04-21T06:47:32.000Z   \n",
       "2  2017-11-11T15:00:03.000Z   \n",
       "3  2017-11-11T18:08:04.000Z   \n",
       "4  2017-11-11T01:19:33.000Z   \n",
       "\n",
       "                                                tags    views   likes  \\\n",
       "0                                    shantell martin   748374   57527   \n",
       "1                                cute,cats,thai,eggs    98966    2486   \n",
       "2  shawn johnson,andrew east,shawn east,shawn and...   321053    4451   \n",
       "3  itsgrace,funny,comedy,vlog,grace,helbig,graceh...   197062    7250   \n",
       "4  wearing online dollar store makeup for a week,...  2744430  115426   \n",
       "\n",
       "   dislikes  comment_count                                  thumbnail_link  \\\n",
       "0      2966          15954  https://i.ytimg.com/vi/2kyS6SvSYSE/default.jpg   \n",
       "1       184            532  https://i.ytimg.com/vi/0mlNzVSJrT0/default.jpg   \n",
       "2      1772            895  https://i.ytimg.com/vi/STI2fI7sKMo/default.jpg   \n",
       "3       217            456  https://i.ytimg.com/vi/KODzih-pYlU/default.jpg   \n",
       "4      1110           6541  https://i.ytimg.com/vi/8mhTWqWlQzU/default.jpg   \n",
       "\n",
       "   comments_disabled  ratings_disabled  video_error_or_removed  \\\n",
       "0              False             False                   False   \n",
       "1              False             False                   False   \n",
       "2              False             False                   False   \n",
       "3              False             False                   False   \n",
       "4              False             False                   False   \n",
       "\n",
       "                                         description        category  \n",
       "0  SHANTELL'S CHANNEL - https://www.youtube.com/s...  People & Blogs  \n",
       "1  Kittens come out of the eggs in a Thai commerc...  People & Blogs  \n",
       "2  Subscribe for weekly videos ▶ http://bit.ly/sj...  People & Blogs  \n",
       "3  Molly is an god damn amazing human and she cha...  People & Blogs  \n",
       "4  I found this online dollar store called ShopMi...  People & Blogs  "
      ]
     },
     "execution_count": 2,
     "metadata": {},
     "output_type": "execute_result"
    }
   ],
   "source": [
    "usData = pd.read_csv('../Data/Youtube/cleaned_us.csv')\n",
    "usData.head()"
   ]
  },
  {
   "cell_type": "code",
   "execution_count": null,
   "metadata": {},
   "outputs": [],
   "source": [
    "usData[usData.trending_date==\"17.30.11\"].boxplot(column='views')"
   ]
  },
  {
   "cell_type": "code",
   "execution_count": null,
   "metadata": {},
   "outputs": [],
   "source": [
    "usDataDates = usData.groupby(\"trending_date\")\n",
    "usDataDates.get_group('17.14.11').video_id.value_counts()"
   ]
  },
  {
   "cell_type": "markdown",
   "metadata": {},
   "source": [
    "This means that this dataset has the top 200 trending videos (Changing the date leads to the same number)"
   ]
  },
  {
   "cell_type": "code",
   "execution_count": null,
   "metadata": {},
   "outputs": [],
   "source": [
    "usDataDates.get_group('17.15.11').video_id.value_counts()"
   ]
  },
  {
   "cell_type": "code",
   "execution_count": null,
   "metadata": {},
   "outputs": [],
   "source": [
    "# reduce the amount to the top 10 to actually glean information from the graph\n",
    "usDataDates.get_group('17.14.11').sort_values(by=['views'], ascending=False).head(10).boxplot(column='views')"
   ]
  },
  {
   "cell_type": "code",
   "execution_count": null,
   "metadata": {},
   "outputs": [],
   "source": [
    "usDataDates.get_group('17.14.12').sort_values(by=['views'], ascending=False).head(10).boxplot(column='views')"
   ]
  },
  {
   "cell_type": "code",
   "execution_count": null,
   "metadata": {},
   "outputs": [],
   "source": [
    "usDataDates.get_group('18.14.01').sort_values(by=['views'], ascending=False).head(10).boxplot(column='views')"
   ]
  },
  {
   "cell_type": "code",
   "execution_count": null,
   "metadata": {},
   "outputs": [],
   "source": [
    "usDataDates.get_group('18.14.02').sort_values(by=['views'], ascending=False).head(10).boxplot(column='views')"
   ]
  },
  {
   "cell_type": "code",
   "execution_count": null,
   "metadata": {},
   "outputs": [],
   "source": [
    "usDataDates.get_group('18.14.03').sort_values(by=['views'], ascending=False).head(10).boxplot(column='views')"
   ]
  },
  {
   "cell_type": "code",
   "execution_count": null,
   "metadata": {},
   "outputs": [],
   "source": [
    "usDataDates.get_group('18.14.04').sort_values(by=['views'], ascending=False).head(10).boxplot(column='views')"
   ]
  },
  {
   "cell_type": "code",
   "execution_count": null,
   "metadata": {},
   "outputs": [],
   "source": [
    "usDataDates.get_group('17.14.11').sort_values(by=['likes'], ascending=False).head(10).boxplot(column='likes')"
   ]
  },
  {
   "cell_type": "code",
   "execution_count": null,
   "metadata": {},
   "outputs": [],
   "source": [
    "usDataDates.get_group('17.14.12').sort_values(by=['likes'], ascending=False).head(10).boxplot(column='likes')"
   ]
  },
  {
   "cell_type": "code",
   "execution_count": null,
   "metadata": {},
   "outputs": [],
   "source": [
    "usDataDates.get_group('18.14.01').sort_values(by=['likes'], ascending=False).head(10).boxplot(column='likes')"
   ]
  },
  {
   "cell_type": "code",
   "execution_count": null,
   "metadata": {},
   "outputs": [],
   "source": [
    "usDataDates.get_group('18.14.02').sort_values(by=['likes'], ascending=False).head(10).boxplot(column='likes')"
   ]
  },
  {
   "cell_type": "code",
   "execution_count": null,
   "metadata": {},
   "outputs": [],
   "source": [
    "usDataDates.get_group('18.14.03').sort_values(by=['likes'], ascending=False).head(10).boxplot(column='likes')"
   ]
  },
  {
   "cell_type": "code",
   "execution_count": null,
   "metadata": {},
   "outputs": [],
   "source": [
    "usDataDates.get_group('18.14.04').sort_values(by=['likes'], ascending=False).head(10).boxplot(column='likes')"
   ]
  },
  {
   "cell_type": "code",
   "execution_count": null,
   "metadata": {},
   "outputs": [],
   "source": [
    "#plot dislikes verses other variables to try to find a trend\n",
    "usData.sort_values(by=['dislikes'], ascending=False).plot.scatter(x='dislikes', y='views')"
   ]
  },
  {
   "cell_type": "code",
   "execution_count": null,
   "metadata": {},
   "outputs": [],
   "source": [
    "usData.sort_values(by=['views'], ascending=False).plot.scatter(x='views', y='dislikes')"
   ]
  },
  {
   "cell_type": "code",
   "execution_count": null,
   "metadata": {},
   "outputs": [],
   "source": [
    "usData.sort_values(by=['dislikes'], ascending=False).plot.scatter(x='dislikes', y='likes')"
   ]
  },
  {
   "cell_type": "code",
   "execution_count": null,
   "metadata": {},
   "outputs": [],
   "source": [
    "usData.sort_values(by=['likes'], ascending=False).plot.scatter(x='likes', y='dislikes')"
   ]
  },
  {
   "cell_type": "code",
   "execution_count": null,
   "metadata": {},
   "outputs": [],
   "source": [
    "usData.sort_values(by=['dislikes'], ascending=False).plot.scatter(x='dislikes', y='comment_count')"
   ]
  },
  {
   "cell_type": "code",
   "execution_count": null,
   "metadata": {},
   "outputs": [],
   "source": [
    "usData.sort_values(by=['dislikes'], ascending=False).plot.scatter(x='comment_count', y='dislikes')"
   ]
  },
  {
   "cell_type": "code",
   "execution_count": null,
   "metadata": {
    "scrolled": true
   },
   "outputs": [],
   "source": [
    "usDataDates.get_group('18.14.01').sort_values(by=['dislikes'], ascending=False).head(20).plot.bar(x='channel_title', y='dislikes')"
   ]
  },
  {
   "cell_type": "code",
   "execution_count": null,
   "metadata": {},
   "outputs": [],
   "source": [
    "usData2 = usData\n",
    "usData2['rating'] = pd.qcut(usData.dislikes, q=2, labels=['good', 'bad'])\n",
    "usData2.sort_values(by=['dislikes'], ascending=True).head(3)"
   ]
  },
  {
   "cell_type": "code",
   "execution_count": null,
   "metadata": {},
   "outputs": [],
   "source": [
    "usData2.rating.value_counts()"
   ]
  },
  {
   "cell_type": "code",
   "execution_count": null,
   "metadata": {},
   "outputs": [],
   "source": [
    "attributes = usData2.drop(['thumbnail_link', 'description', 'dislikes', 'tags', 'rating', 'category', 'publish_time', 'trending_date', 'video_id', 'title', 'channel_title'], axis=1)\n",
    "target = usData2.rating"
   ]
  },
  {
   "cell_type": "code",
   "execution_count": null,
   "metadata": {},
   "outputs": [],
   "source": [
    "Tree = tree.DecisionTreeClassifier(max_depth=2)"
   ]
  },
  {
   "cell_type": "code",
   "execution_count": null,
   "metadata": {},
   "outputs": [],
   "source": [
    "Tree.fit(attributes,target)"
   ]
  },
  {
   "cell_type": "code",
   "execution_count": null,
   "metadata": {},
   "outputs": [],
   "source": [
    "dot_data = tree.export_graphviz(Tree, out_file=None,\n",
    "                                feature_names=attributes.columns,\n",
    "                                class_names = ['good', 'bad'],\n",
    "                                proportion=True,\n",
    "                                impurity=False,\n",
    "                                filled=True,\n",
    "                                rounded=True)\n",
    "graph = graphviz.Source(dot_data)\n",
    "graph.render('YouTube Dislikes')\n",
    "graph"
   ]
  },
  {
   "cell_type": "code",
   "execution_count": null,
   "metadata": {},
   "outputs": [],
   "source": [
    "# usData2['predict'] = Tree.predict(attributes)\n",
    "# incorrect = (usData2.rating != usData2.predict).sum()\n",
    "# incorrect/usData2.shape[0]"
   ]
  },
  {
   "cell_type": "code",
   "execution_count": null,
   "metadata": {},
   "outputs": [],
   "source": [
    "df = pd.DataFrame(data={'views': 5, 'likes': 3, 'comment_count': 7, 'comments_disabled':False, 'ratings_disabled':False, 'video_error_or_removed': False}, index=[0])\n",
    "Tree.predict(df)"
   ]
  },
  {
   "cell_type": "code",
   "execution_count": null,
   "metadata": {},
   "outputs": [],
   "source": [
    "usData2['dislike_ratio'] = usData2.views / usData2.dislikes\n",
    "usData2['dislike_rating'] = pd.qcut(usData.dislike_ratio, q=2, labels=['bad', 'good'])\n",
    "usData2.head(5)"
   ]
  },
  {
   "cell_type": "code",
   "execution_count": null,
   "metadata": {},
   "outputs": [],
   "source": [
    "attributes = usData2.drop(['thumbnail_link', 'description', 'dislike_rating', 'dislike_ratio', 'dislikes', 'tags', 'rating', 'category', 'publish_time', 'trending_date', 'video_id', 'title', 'channel_title'], axis=1)\n",
    "target = usData2.dislike_rating\n",
    "attributes"
   ]
  },
  {
   "cell_type": "code",
   "execution_count": null,
   "metadata": {},
   "outputs": [],
   "source": [
    "Tree = tree.DecisionTreeClassifier(max_depth=2)"
   ]
  },
  {
   "cell_type": "code",
   "execution_count": null,
   "metadata": {},
   "outputs": [],
   "source": [
    "Tree.fit(attributes,target)"
   ]
  },
  {
   "cell_type": "code",
   "execution_count": null,
   "metadata": {},
   "outputs": [],
   "source": [
    "dot_data = tree.export_graphviz(Tree, out_file=None,\n",
    "                                feature_names=attributes.columns,\n",
    "                                class_names = ['good', 'bad'],\n",
    "                                proportion=True,\n",
    "                                impurity=False,\n",
    "                                filled=True,\n",
    "                                rounded=True)\n",
    "graph = graphviz.Source(dot_data)\n",
    "graph.render('YouTube Dislikes')\n",
    "graph"
   ]
  },
  {
   "cell_type": "code",
   "execution_count": null,
   "metadata": {},
   "outputs": [],
   "source": [
    "usData2['predict'] = Tree.predict(attributes)\n",
    "incorrect = (usData2.dislike_rating != usData2.predict).sum()\n",
    "incorrect/usData2.shape[0]"
   ]
  },
  {
   "cell_type": "code",
   "execution_count": null,
   "metadata": {},
   "outputs": [],
   "source": [
    "usData2['like_dislike_ratio'] = usData2.likes / usData2.dislikes\n",
    "usData2['like_dislike_rating'] = pd.qcut(usData.like_dislike_ratio, q=2, labels=['bad', 'good'])\n",
    "usData2 = usData2.replace([np.inf, -np.inf], np.nan).dropna(how=\"any\")\n",
    "usData2.head(5)"
   ]
  },
  {
   "cell_type": "code",
   "execution_count": null,
   "metadata": {},
   "outputs": [],
   "source": [
    "attributes = usData2.drop(['thumbnail_link', 'description', 'dislike_rating', 'predict', 'dislike_ratio', 'dislikes', 'tags', 'rating', 'category', 'publish_time', 'trending_date', 'video_id', 'title', 'channel_title', 'like_dislike_rating', 'like_dislike_ratio'], axis=1)\n",
    "target = usData2.like_dislike_rating\n",
    "attributes"
   ]
  },
  {
   "cell_type": "code",
   "execution_count": null,
   "metadata": {},
   "outputs": [],
   "source": [
    "from sklearn.model_selection import GridSearchCV"
   ]
  },
  {
   "cell_type": "code",
   "execution_count": null,
   "metadata": {},
   "outputs": [],
   "source": [
    "parameters = {'max_depth': [1,2,3,4,5,6,7,8,9,10]}"
   ]
  },
  {
   "cell_type": "code",
   "execution_count": null,
   "metadata": {},
   "outputs": [],
   "source": [
    "Tree = tree.DecisionTreeClassifier()"
   ]
  },
  {
   "cell_type": "code",
   "execution_count": null,
   "metadata": {},
   "outputs": [],
   "source": [
    "TreeCV = GridSearchCV(Tree, param_grid=parameters, return_train_score = True)"
   ]
  },
  {
   "cell_type": "code",
   "execution_count": null,
   "metadata": {},
   "outputs": [],
   "source": [
    "TreeCV.fit(attributes,target)"
   ]
  },
  {
   "cell_type": "code",
   "execution_count": null,
   "metadata": {},
   "outputs": [],
   "source": [
    "TreeCV.best_params_"
   ]
  },
  {
   "cell_type": "code",
   "execution_count": null,
   "metadata": {},
   "outputs": [],
   "source": [
    "error = pd.DataFrame()\n",
    "error['depth'] = parameters['max_depth']\n",
    "error['train error'] = 1 - TreeCV.cv_results_['mean_train_score']\n",
    "error['test error'] = 1 - TreeCV.cv_results_['mean_test_score']\n",
    "error"
   ]
  },
  {
   "cell_type": "code",
   "execution_count": null,
   "metadata": {},
   "outputs": [],
   "source": []
  },
  {
   "cell_type": "code",
   "execution_count": 3,
   "metadata": {},
   "outputs": [
    {
     "data": {
      "text/html": [
       "<div>\n",
       "<style scoped>\n",
       "    .dataframe tbody tr th:only-of-type {\n",
       "        vertical-align: middle;\n",
       "    }\n",
       "\n",
       "    .dataframe tbody tr th {\n",
       "        vertical-align: top;\n",
       "    }\n",
       "\n",
       "    .dataframe thead th {\n",
       "        text-align: right;\n",
       "    }\n",
       "</style>\n",
       "<table border=\"1\" class=\"dataframe\">\n",
       "  <thead>\n",
       "    <tr style=\"text-align: right;\">\n",
       "      <th></th>\n",
       "      <th>video_id</th>\n",
       "      <th>trending_date</th>\n",
       "      <th>title</th>\n",
       "      <th>channel_title</th>\n",
       "      <th>publish_time</th>\n",
       "      <th>tags</th>\n",
       "      <th>views</th>\n",
       "      <th>likes</th>\n",
       "      <th>dislikes</th>\n",
       "      <th>comment_count</th>\n",
       "      <th>thumbnail_link</th>\n",
       "      <th>comments_disabled</th>\n",
       "      <th>ratings_disabled</th>\n",
       "      <th>video_error_or_removed</th>\n",
       "      <th>description</th>\n",
       "      <th>category</th>\n",
       "      <th>rating</th>\n",
       "    </tr>\n",
       "  </thead>\n",
       "  <tbody>\n",
       "    <tr>\n",
       "      <td>921</td>\n",
       "      <td>1x77e4XvqZ4</td>\n",
       "      <td>18.09.01</td>\n",
       "      <td>RC Jansen Strandbeest</td>\n",
       "      <td>Mike H</td>\n",
       "      <td>2015-01-08T21:02:08.000Z</td>\n",
       "      <td>[none]</td>\n",
       "      <td>9046</td>\n",
       "      <td>45</td>\n",
       "      <td>0</td>\n",
       "      <td>4</td>\n",
       "      <td>https://i.ytimg.com/vi/1x77e4XvqZ4/default.jpg</td>\n",
       "      <td>False</td>\n",
       "      <td>False</td>\n",
       "      <td>False</td>\n",
       "      <td>NaN</td>\n",
       "      <td>People &amp; Blogs</td>\n",
       "      <td>good</td>\n",
       "    </tr>\n",
       "    <tr>\n",
       "      <td>19095</td>\n",
       "      <td>Kn5UgGQukYQ</td>\n",
       "      <td>17.23.11</td>\n",
       "      <td>Breaking Bad's Bryan Cranston on Meeting Charl...</td>\n",
       "      <td>hudsonunionsociety</td>\n",
       "      <td>2016-10-14T21:14:51.000Z</td>\n",
       "      <td>breaking bad,bryan cranston,malcom in the midd...</td>\n",
       "      <td>36137</td>\n",
       "      <td>0</td>\n",
       "      <td>0</td>\n",
       "      <td>0</td>\n",
       "      <td>https://i.ytimg.com/vi/Kn5UgGQukYQ/default.jpg</td>\n",
       "      <td>True</td>\n",
       "      <td>True</td>\n",
       "      <td>False</td>\n",
       "      <td>The Hudson Union www.hudsonunionsociety.com is...</td>\n",
       "      <td>Film &amp; Animation</td>\n",
       "      <td>good</td>\n",
       "    </tr>\n",
       "    <tr>\n",
       "      <td>37150</td>\n",
       "      <td>_EMxJMU1dCo</td>\n",
       "      <td>18.08.03</td>\n",
       "      <td>GET READY WITH ME | Halo Beauty Launch Day</td>\n",
       "      <td>Tati</td>\n",
       "      <td>2018-03-02T18:00:04.000Z</td>\n",
       "      <td>youtube,beauty,makeup,tutorial,review,tati,wes...</td>\n",
       "      <td>912549</td>\n",
       "      <td>0</td>\n",
       "      <td>0</td>\n",
       "      <td>0</td>\n",
       "      <td>https://i.ytimg.com/vi/_EMxJMU1dCo/default.jpg</td>\n",
       "      <td>True</td>\n",
       "      <td>True</td>\n",
       "      <td>False</td>\n",
       "      <td>Unfortunately, I had to disable comments due t...</td>\n",
       "      <td>Howto &amp; Style</td>\n",
       "      <td>good</td>\n",
       "    </tr>\n",
       "  </tbody>\n",
       "</table>\n",
       "</div>"
      ],
      "text/plain": [
       "          video_id trending_date  \\\n",
       "921    1x77e4XvqZ4      18.09.01   \n",
       "19095  Kn5UgGQukYQ      17.23.11   \n",
       "37150  _EMxJMU1dCo      18.08.03   \n",
       "\n",
       "                                                   title       channel_title  \\\n",
       "921                                RC Jansen Strandbeest              Mike H   \n",
       "19095  Breaking Bad's Bryan Cranston on Meeting Charl...  hudsonunionsociety   \n",
       "37150         GET READY WITH ME | Halo Beauty Launch Day                Tati   \n",
       "\n",
       "                   publish_time  \\\n",
       "921    2015-01-08T21:02:08.000Z   \n",
       "19095  2016-10-14T21:14:51.000Z   \n",
       "37150  2018-03-02T18:00:04.000Z   \n",
       "\n",
       "                                                    tags   views  likes  \\\n",
       "921                                               [none]    9046     45   \n",
       "19095  breaking bad,bryan cranston,malcom in the midd...   36137      0   \n",
       "37150  youtube,beauty,makeup,tutorial,review,tati,wes...  912549      0   \n",
       "\n",
       "       dislikes  comment_count  \\\n",
       "921           0              4   \n",
       "19095         0              0   \n",
       "37150         0              0   \n",
       "\n",
       "                                       thumbnail_link  comments_disabled  \\\n",
       "921    https://i.ytimg.com/vi/1x77e4XvqZ4/default.jpg              False   \n",
       "19095  https://i.ytimg.com/vi/Kn5UgGQukYQ/default.jpg               True   \n",
       "37150  https://i.ytimg.com/vi/_EMxJMU1dCo/default.jpg               True   \n",
       "\n",
       "       ratings_disabled  video_error_or_removed  \\\n",
       "921               False                   False   \n",
       "19095              True                   False   \n",
       "37150              True                   False   \n",
       "\n",
       "                                             description          category  \\\n",
       "921                                                  NaN    People & Blogs   \n",
       "19095  The Hudson Union www.hudsonunionsociety.com is...  Film & Animation   \n",
       "37150  Unfortunately, I had to disable comments due t...     Howto & Style   \n",
       "\n",
       "      rating  \n",
       "921     good  \n",
       "19095   good  \n",
       "37150   good  "
      ]
     },
     "execution_count": 3,
     "metadata": {},
     "output_type": "execute_result"
    }
   ],
   "source": [
    "usData2 = usData\n",
    "usData2['rating'] = pd.qcut(usData.dislikes, q=2, labels=['good', 'bad'])\n",
    "usData2.sort_values(by=['dislikes'], ascending=True).head(3)"
   ]
  },
  {
   "cell_type": "code",
   "execution_count": 4,
   "metadata": {},
   "outputs": [],
   "source": [
    "attributes = usData2.drop(['thumbnail_link', 'description', 'dislikes', 'tags', 'rating', 'category', 'publish_time', 'trending_date', 'video_id', 'title', 'channel_title'], axis=1)\n",
    "target = usData2.rating"
   ]
  },
  {
   "cell_type": "code",
   "execution_count": 6,
   "metadata": {},
   "outputs": [],
   "source": [
    "parameters = {'max_depth': [1,2,3,4,5,6,7,8,9,10]}\n",
    "Tree = tree.DecisionTreeClassifier()\n",
    "TreeCV = GridSearchCV(Tree, param_grid=parameters, return_train_score = True)"
   ]
  },
  {
   "cell_type": "code",
   "execution_count": 7,
   "metadata": {},
   "outputs": [
    {
     "name": "stderr",
     "output_type": "stream",
     "text": [
      "C:\\Users\\black\\Anaconda3\\lib\\site-packages\\sklearn\\model_selection\\_split.py:1978: FutureWarning: The default value of cv will change from 3 to 5 in version 0.22. Specify it explicitly to silence this warning.\n",
      "  warnings.warn(CV_WARNING, FutureWarning)\n"
     ]
    },
    {
     "data": {
      "text/plain": [
       "GridSearchCV(cv='warn', error_score='raise-deprecating',\n",
       "             estimator=DecisionTreeClassifier(class_weight=None,\n",
       "                                              criterion='gini', max_depth=None,\n",
       "                                              max_features=None,\n",
       "                                              max_leaf_nodes=None,\n",
       "                                              min_impurity_decrease=0.0,\n",
       "                                              min_impurity_split=None,\n",
       "                                              min_samples_leaf=1,\n",
       "                                              min_samples_split=2,\n",
       "                                              min_weight_fraction_leaf=0.0,\n",
       "                                              presort=False, random_state=None,\n",
       "                                              splitter='best'),\n",
       "             iid='warn', n_jobs=None,\n",
       "             param_grid={'max_depth': [1, 2, 3, 4, 5, 6, 7, 8, 9, 10]},\n",
       "             pre_dispatch='2*n_jobs', refit=True, return_train_score=True,\n",
       "             scoring=None, verbose=0)"
      ]
     },
     "execution_count": 7,
     "metadata": {},
     "output_type": "execute_result"
    }
   ],
   "source": [
    "TreeCV.fit(attributes,target)"
   ]
  },
  {
   "cell_type": "code",
   "execution_count": 8,
   "metadata": {},
   "outputs": [
    {
     "data": {
      "text/plain": [
       "{'max_depth': 6}"
      ]
     },
     "execution_count": 8,
     "metadata": {},
     "output_type": "execute_result"
    }
   ],
   "source": [
    "TreeCV.best_params_"
   ]
  },
  {
   "cell_type": "code",
   "execution_count": 9,
   "metadata": {},
   "outputs": [
    {
     "data": {
      "text/html": [
       "<div>\n",
       "<style scoped>\n",
       "    .dataframe tbody tr th:only-of-type {\n",
       "        vertical-align: middle;\n",
       "    }\n",
       "\n",
       "    .dataframe tbody tr th {\n",
       "        vertical-align: top;\n",
       "    }\n",
       "\n",
       "    .dataframe thead th {\n",
       "        text-align: right;\n",
       "    }\n",
       "</style>\n",
       "<table border=\"1\" class=\"dataframe\">\n",
       "  <thead>\n",
       "    <tr style=\"text-align: right;\">\n",
       "      <th></th>\n",
       "      <th>depth</th>\n",
       "      <th>train error</th>\n",
       "      <th>test error</th>\n",
       "    </tr>\n",
       "  </thead>\n",
       "  <tbody>\n",
       "    <tr>\n",
       "      <td>0</td>\n",
       "      <td>1</td>\n",
       "      <td>0.155583</td>\n",
       "      <td>0.170754</td>\n",
       "    </tr>\n",
       "    <tr>\n",
       "      <td>1</td>\n",
       "      <td>2</td>\n",
       "      <td>0.155583</td>\n",
       "      <td>0.170754</td>\n",
       "    </tr>\n",
       "    <tr>\n",
       "      <td>2</td>\n",
       "      <td>3</td>\n",
       "      <td>0.140608</td>\n",
       "      <td>0.152343</td>\n",
       "    </tr>\n",
       "    <tr>\n",
       "      <td>3</td>\n",
       "      <td>4</td>\n",
       "      <td>0.134226</td>\n",
       "      <td>0.154666</td>\n",
       "    </tr>\n",
       "    <tr>\n",
       "      <td>4</td>\n",
       "      <td>5</td>\n",
       "      <td>0.128029</td>\n",
       "      <td>0.153664</td>\n",
       "    </tr>\n",
       "    <tr>\n",
       "      <td>5</td>\n",
       "      <td>6</td>\n",
       "      <td>0.121415</td>\n",
       "      <td>0.150045</td>\n",
       "    </tr>\n",
       "    <tr>\n",
       "      <td>6</td>\n",
       "      <td>7</td>\n",
       "      <td>0.115009</td>\n",
       "      <td>0.155106</td>\n",
       "    </tr>\n",
       "    <tr>\n",
       "      <td>7</td>\n",
       "      <td>8</td>\n",
       "      <td>0.106342</td>\n",
       "      <td>0.159629</td>\n",
       "    </tr>\n",
       "    <tr>\n",
       "      <td>8</td>\n",
       "      <td>9</td>\n",
       "      <td>0.095768</td>\n",
       "      <td>0.163590</td>\n",
       "    </tr>\n",
       "    <tr>\n",
       "      <td>9</td>\n",
       "      <td>10</td>\n",
       "      <td>0.083360</td>\n",
       "      <td>0.167160</td>\n",
       "    </tr>\n",
       "  </tbody>\n",
       "</table>\n",
       "</div>"
      ],
      "text/plain": [
       "   depth  train error  test error\n",
       "0      1     0.155583    0.170754\n",
       "1      2     0.155583    0.170754\n",
       "2      3     0.140608    0.152343\n",
       "3      4     0.134226    0.154666\n",
       "4      5     0.128029    0.153664\n",
       "5      6     0.121415    0.150045\n",
       "6      7     0.115009    0.155106\n",
       "7      8     0.106342    0.159629\n",
       "8      9     0.095768    0.163590\n",
       "9     10     0.083360    0.167160"
      ]
     },
     "execution_count": 9,
     "metadata": {},
     "output_type": "execute_result"
    }
   ],
   "source": [
    "error = pd.DataFrame()\n",
    "error['depth'] = parameters['max_depth']\n",
    "error['train error'] = 1 - TreeCV.cv_results_['mean_train_score']\n",
    "error['test error'] = 1 - TreeCV.cv_results_['mean_test_score']\n",
    "error"
   ]
  },
  {
   "cell_type": "code",
   "execution_count": null,
   "metadata": {},
   "outputs": [],
   "source": []
  }
 ],
 "metadata": {
  "kernelspec": {
   "display_name": "Python 3",
   "language": "python",
   "name": "python3"
  },
  "language_info": {
   "codemirror_mode": {
    "name": "ipython",
    "version": 3
   },
   "file_extension": ".py",
   "mimetype": "text/x-python",
   "name": "python",
   "nbconvert_exporter": "python",
   "pygments_lexer": "ipython3",
   "version": "3.7.4"
  }
 },
 "nbformat": 4,
 "nbformat_minor": 2
}
